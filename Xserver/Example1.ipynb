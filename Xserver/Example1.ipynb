{
 "cells": [
  {
   "cell_type": "markdown",
   "id": "b6f9ef94",
   "metadata": {},
   "source": [
    "### 1. VNC (Virtual Network Computing)\n",
    "\n",
    "VNC создает виртуальный рабочий стол, к которому вы можете подключиться с вашего локального компьютера.\n",
    "\n",
    "**Шаги на VPS (через SSH):**\n",
    "\n",
    "1.  **Установите графическую среду (если ее нет):**\n",
    "    Если у вас минимальная установка Ubuntu, вам нужно установить графическую среду, например GNOME, XFCE или LXDE. XFCE и LXDE легче и потребляют меньше ресурсов, что хорошо для VPS.\n",
    "    * **XFCE (рекомендуется для VPS):**\n",
    "        ```bash\n",
    "        sudo apt update\n",
    "        sudo apt install xfce4\n",
    "        ```\n",
    "    * **GNOME (более ресурсоемкий):**\n",
    "        ```bash\n",
    "        sudo apt update\n",
    "        sudo apt install ubuntu-desktop"
   ]
  }
 ],
 "metadata": {
  "language_info": {
   "name": "python"
  }
 },
 "nbformat": 4,
 "nbformat_minor": 5
}
