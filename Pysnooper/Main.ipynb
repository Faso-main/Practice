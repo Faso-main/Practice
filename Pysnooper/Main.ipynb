{
 "cells": [
  {
   "cell_type": "code",
   "execution_count": null,
   "id": "4184a5f5",
   "metadata": {},
   "outputs": [
    {
     "name": "stderr",
     "output_type": "stream",
     "text": [
      "Source path:... C:\\Users\\faso3\\AppData\\Local\\Temp\\ipykernel_6536\\3098832430.py\n",
      "Starting var:.. x = 2\n",
      "Starting var:.. y = 4\n",
      "Starting var:.. z = 6\n",
      "22:23:44.749356 call        13 SOURCE IS UNAVAILABLE\n",
      "22:23:44.750352 line        15 SOURCE IS UNAVAILABLE\n",
      "New var:....... calc_placeholder = 6\n",
      "22:23:44.751352 line        16 SOURCE IS UNAVAILABLE\n",
      "New var:....... mult_placeholder = 46656\n",
      "22:23:44.751352 line        17 SOURCE IS UNAVAILABLE\n",
      "22:23:44.751352 return      17 SOURCE IS UNAVAILABLE\n",
      "Return value:.. 46656\n",
      "Elapsed time: 00:00:00.001996\n"
     ]
    },
    {
     "data": {
      "text/plain": [
       "46656"
      ]
     },
     "execution_count": 2,
     "metadata": {},
     "output_type": "execute_result"
    }
   ],
   "source": [
    "import pysnooper\n",
    "\n",
    "\n",
    "\"\"\"\n",
    "PySnooper — это библиотека для отладки, которая позволяет логгировать каждую строку выполняемого кода \n",
    "вместе со значениями переменных. Она полезна, когда нужно понять, как работает код и где происходят изменения переменных.\n",
    "\n",
    "Для использования необходимо декорировать функцию, которую нужно отладить с помощью @pysnooper.snoop(). \n",
    "Вид лога можно настроить с помощью параметров: variables — какие переменные отображать, \n",
    "depth — максимальная вложенность структур данных, prefix — префикс для каждой строки лога.\n",
    "\"\"\"\n",
    "\n",
    "@pysnooper.snoop(watch=(\n",
    "    pysnooper.Attrs('x'),    # attributes\n",
    "    pysnooper.Keys('y'),     # mapping (e.g. dict) items\n",
    "    pysnooper.Indices('z'),  # sequence (e.g. list/tuple) items\n",
    "))\n",
    "def basic_calc(x,y,z):\n",
    "    calc_placeholder=x+y\n",
    "    mult_placeholder=z**calc_placeholder\n",
    "    return mult_placeholder\n",
    "\n",
    "basic_calc(2,4,6)"
   ]
  },
  {
   "cell_type": "code",
   "execution_count": null,
   "id": "cf13de50",
   "metadata": {},
   "outputs": [],
   "source": []
  }
 ],
 "metadata": {
  "kernelspec": {
   "display_name": "Python 3",
   "language": "python",
   "name": "python3"
  },
  "language_info": {
   "codemirror_mode": {
    "name": "ipython",
    "version": 3
   },
   "file_extension": ".py",
   "mimetype": "text/x-python",
   "name": "python",
   "nbconvert_exporter": "python",
   "pygments_lexer": "ipython3",
   "version": "3.11.9"
  }
 },
 "nbformat": 4,
 "nbformat_minor": 5
}
