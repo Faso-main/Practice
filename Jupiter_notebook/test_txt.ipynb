{
 "cells": [
  {
   "cell_type": "markdown",
   "id": "92bd5233",
   "metadata": {},
   "source": [
    "# Заголовок\n",
    "Это **жирный** текст.  \n",
    "Формула: $E = mc^2$"
   ]
  },
  {
   "cell_type": "code",
   "execution_count": null,
   "id": "eaa88b0d",
   "metadata": {
    "vscode": {
     "languageId": "plaintext"
    }
   },
   "outputs": [],
   "source": []
  }
 ],
 "metadata": {
  "language_info": {
   "name": "python"
  }
 },
 "nbformat": 4,
 "nbformat_minor": 5
}
