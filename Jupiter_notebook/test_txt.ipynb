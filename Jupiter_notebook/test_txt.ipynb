{
 "cells": [
  {
   "cell_type": "markdown",
   "id": "92bd5233",
   "metadata": {},
   "source": [
    "# Практика\n",
    "\n",
    "Этот репозиторий содержит примеры использования различных библиотек Python для анализа данных, машинного обучения, визуализации и других задач.\n",
    "\n",
    "## Содержание\n",
    "\n",
    "1. **Библиотеки для анализа данных**\n",
    "   - [Pandas](pandas_examples/) – работа с табличными данными.\n",
    "   - [NumPy](numpy_examples/) – операции с массивами и линейная алгебра.\n",
    "\n",
    "2. **Визуализация данных**\n",
    "   - [Matplotlib](matplotlib_examples/) – базовые графики.\n",
    "   - [Seaborn](seaborn_examples/) – статистическая визуализация.\n",
    "   - [Plotly](Plotly/) – интерактивные графики.\n",
    "\n",
    "3. **Машинное обучение**\n",
    "   - [Scikit-learn](sklearn_examples/) – классические ML-алгоритмы.\n",
    "   - [TensorFlow/Keras](tensorflow_examples/) – нейронные сети.\n",
    "\n",
    "4. **Веб и парсинг**\n",
    "   - [Requests](requests_examples/) – HTTP-запросы.\n",
    "   - [BeautifulSoup](bs4_examples/) – парсинг HTML.\n",
    "\n",
    "5. **Автоматизация и утилиты**\n",
    "   - [OpenPyXL](openpyxl_examples/) – работа с Excel.\n",
    "   - [PyPDF2](pypdf2_examples/) – обработка PDF.\n"
   ]
  },
  {
   "cell_type": "code",
   "execution_count": null,
   "id": "eaa88b0d",
   "metadata": {
    "vscode": {
     "languageId": "plaintext"
    }
   },
   "outputs": [],
   "source": []
  }
 ],
 "metadata": {
  "language_info": {
   "name": "python"
  }
 },
 "nbformat": 4,
 "nbformat_minor": 5
}
