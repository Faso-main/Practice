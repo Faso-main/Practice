{
 "cells": [
  {
   "cell_type": "markdown",
   "id": "25b795ca",
   "metadata": {},
   "source": [
    "# Пример обучающего документа\n",
    "\n",
    "### Изображение:\n",
    "![Пример изображения](https://www.fabrika-kartin.ru/productimages/canvas/med/75/16/p2zru6p6jwseb9n3.jpg)\n",
    "\n",
    "*Рис. 1: Картина*\n",
    "\n",
    "### Ссылки\n",
    "**Пример**: [Нажми меня](https://memexpert.net/static/shrek-ishchi-sebya.jpg)\n",
    "\n",
    "### Примечания:\n",
    "> **Примечание**: Для работы с визуализацией необходимо установить `matplotlib`.\n",
    "\n",
    "### Разделения:\n",
    "---\n",
    "***или***\n",
    "<!-- разделитель -->\n",
    "<div style=\"height:1px; background:linear-gradient(90deg, transparent, #ccc, transparent); margin: 20px 0;\"></div>\n",
    "\n",
    "**Пример: заголовок примера с кодом**\n",
    "```python\n",
    "import pandas as pd\n",
    "data = {\n",
    "    'name': ['Xavier', 'Ann', 'Jana', 'Yi', 'Robin', 'Amal', 'Nori'],\n",
    "    'city': ['Mexico City', 'Toronto', 'Prague', 'Shanghai','Manchester', 'Cairo', 'Osaka'],\n",
    "    'age': [41, 28, 33, 34, 38, 31, 37],\n",
    "    'py-score': [88.0, 79.0, 81.0, 80.0, 68.0, 61.0, 84.0]}\n",
    "```\n",
    "\n"
   ]
  }
 ],
 "metadata": {
  "language_info": {
   "name": "python"
  }
 },
 "nbformat": 4,
 "nbformat_minor": 5
}
