{
 "cells": [
  {
   "cell_type": "code",
   "execution_count": 1,
   "id": "90113870-02dd-4b3c-a31e-ecf3eb0ae13f",
   "metadata": {},
   "outputs": [
    {
     "name": "stdout",
     "output_type": "stream",
     "text": [
      "[0, 20, 40, 60, 80, 100]\n"
     ]
    }
   ],
   "source": [
    "hashmap_array=[itr*10 for itr in range(0,11,2)]\n",
    "print(f'{hashmap_array}')"
   ]
  },
  {
   "cell_type": "code",
   "execution_count": null,
   "id": "17223b01-8a8b-4dda-95a6-c7fbc9a07e2d",
   "metadata": {},
   "outputs": [],
   "source": []
  }
 ],
 "metadata": {
  "kernelspec": {
   "display_name": "Python 3 (ipykernel)",
   "language": "python",
   "name": "python3"
  },
  "language_info": {
   "codemirror_mode": {
    "name": "ipython",
    "version": 3
   },
   "file_extension": ".py",
   "mimetype": "text/x-python",
   "name": "python",
   "nbconvert_exporter": "python",
   "pygments_lexer": "ipython3",
   "version": "3.11.9"
  }
 },
 "nbformat": 4,
 "nbformat_minor": 5
}
