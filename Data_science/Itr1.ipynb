{
 "cells": [
  {
   "cell_type": "code",
   "execution_count": 2,
   "id": "a33f9f1c",
   "metadata": {},
   "outputs": [],
   "source": [
    "\"\"\"\n",
    "Inport snippet\n",
    "\"\"\"\n",
    "import pandas as pd"
   ]
  },
  {
   "cell_type": "code",
   "execution_count": null,
   "id": "edb5e90b",
   "metadata": {},
   "outputs": [
    {
     "ename": "TypeError",
     "evalue": "'float' object cannot be interpreted as an integer",
     "output_type": "error",
     "traceback": [
      "\u001b[31m---------------------------------------------------------------------------\u001b[39m",
      "\u001b[31mTypeError\u001b[39m                                 Traceback (most recent call last)",
      "\u001b[36mCell\u001b[39m\u001b[36m \u001b[39m\u001b[32mIn[13]\u001b[39m\u001b[32m, line 4\u001b[39m\n\u001b[32m      1\u001b[39m raw_data={\n\u001b[32m      2\u001b[39m     \u001b[33m'\u001b[39m\u001b[33mcol1\u001b[39m\u001b[33m'\u001b[39m:[itr \u001b[38;5;28;01mfor\u001b[39;00m itr \u001b[38;5;129;01min\u001b[39;00m \u001b[38;5;28mrange\u001b[39m(\u001b[32m0\u001b[39m,\u001b[32m11\u001b[39m,\u001b[32m2\u001b[39m)],\n\u001b[32m      3\u001b[39m     \u001b[33m'\u001b[39m\u001b[33mcol2\u001b[39m\u001b[33m'\u001b[39m:[\u001b[33m'\u001b[39m\u001b[33mYES \u001b[39m\u001b[33m'\u001b[39m*itr \u001b[38;5;28;01mfor\u001b[39;00m itr \u001b[38;5;129;01min\u001b[39;00m \u001b[38;5;28mrange\u001b[39m(\u001b[32m1\u001b[39m,\u001b[38;5;28mint\u001b[39m(\u001b[38;5;28mlen\u001b[39m(\u001b[33m'\u001b[39m\u001b[33mYES\u001b[39m\u001b[33m'\u001b[39m))+\u001b[32m4\u001b[39m,\u001b[32m1\u001b[39m)],\n\u001b[32m----> \u001b[39m\u001b[32m4\u001b[39m     \u001b[33m'\u001b[39m\u001b[33mcol3\u001b[39m\u001b[33m'\u001b[39m:[\u001b[33m'\u001b[39m\u001b[33mN0 \u001b[39m\u001b[33m'\u001b[39m*itr \u001b[38;5;28;01mfor\u001b[39;00m itr \u001b[38;5;129;01min\u001b[39;00m \u001b[38;5;28;43mrange\u001b[39;49m\u001b[43m(\u001b[49m\u001b[32;43m1\u001b[39;49m\u001b[43m*\u001b[49m\u001b[43m*\u001b[49m\u001b[32;43m2\u001b[39;49m\u001b[43m,\u001b[49m\u001b[32;43m140\u001b[39;49m\u001b[43m/\u001b[49m\u001b[32;43m20\u001b[39;49m\u001b[43m,\u001b[49m\u001b[32;43m13\u001b[39;49m\u001b[43m%\u001b[49m\u001b[32;43m12\u001b[39;49m\u001b[43m)\u001b[49m]\n\u001b[32m      5\u001b[39m }\n\u001b[32m      7\u001b[39m df=pd.DataFrame(data=raw_data)\n\u001b[32m      9\u001b[39m \u001b[38;5;28mprint\u001b[39m(df)\n",
      "\u001b[31mTypeError\u001b[39m: 'float' object cannot be interpreted as an integer"
     ]
    }
   ],
   "source": [
    "raw_data={\n",
    "    'col1':[itr for itr in range(0,11,2)],\n",
    "    'col2':['YES '*itr for itr in range(1,int(len('YES'))+4,1)],\n",
    "    'col3':['N0 '*itr for itr in range(1**2,int(140/20),13%12)]\n",
    "}\n",
    "\n",
    "df=pd.DataFrame(data=raw_data)\n",
    "\n",
    "print(df)"
   ]
  },
  {
   "cell_type": "code",
   "execution_count": null,
   "id": "8c98d5d5",
   "metadata": {},
   "outputs": [],
   "source": []
  }
 ],
 "metadata": {
  "kernelspec": {
   "display_name": "Python 3",
   "language": "python",
   "name": "python3"
  },
  "language_info": {
   "codemirror_mode": {
    "name": "ipython",
    "version": 3
   },
   "file_extension": ".py",
   "mimetype": "text/x-python",
   "name": "python",
   "nbconvert_exporter": "python",
   "pygments_lexer": "ipython3",
   "version": "3.11.9"
  }
 },
 "nbformat": 4,
 "nbformat_minor": 5
}
