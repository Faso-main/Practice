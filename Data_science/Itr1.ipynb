{
 "cells": [
  {
   "cell_type": "code",
   "execution_count": 39,
   "id": "a33f9f1c",
   "metadata": {},
   "outputs": [],
   "source": [
    "\"\"\"\n",
    "Inport snippet\n",
    "\"\"\"\n",
    "import pandas as pd\n",
    "import numpy as np"
   ]
  },
  {
   "cell_type": "code",
   "execution_count": 40,
   "id": "8c98d5d5",
   "metadata": {},
   "outputs": [
    {
     "name": "stdout",
     "output_type": "stream",
     "text": [
      "Max value: 169\n",
      "Min value: 1\n",
      "Avarage value: 65.0\n"
     ]
    }
   ],
   "source": [
    "numeric_array=[itr**2 for itr in range(1,15,2)] # [1, 9, 25, 49, 81, 121, 169]\n",
    "\n",
    "# Output\n",
    "print(f'Max value: {max(numeric_array)}')\n",
    "print(f'Min value: {min(numeric_array)}')\n",
    "print(f'Avarage value: {np.mean(numeric_array)}')"
   ]
  },
  {
   "cell_type": "code",
   "execution_count": 41,
   "id": "edb5e90b",
   "metadata": {},
   "outputs": [
    {
     "name": "stdout",
     "output_type": "stream",
     "text": [
      "Frame: (6, 3)\n",
      "\n",
      "   col1                      col2                col3\n",
      "0     0                      YES                  N0 \n",
      "1     2                  YES YES               N0 N0 \n",
      "2     4              YES YES YES            N0 N0 N0 \n",
      "3     6          YES YES YES YES         N0 N0 N0 N0 \n",
      "4     8      YES YES YES YES YES      N0 N0 N0 N0 N0 \n",
      "5    10  YES YES YES YES YES YES   N0 N0 N0 N0 N0 N0 \n"
     ]
    }
   ],
   "source": [
    "raw_data={\n",
    "    'col1':[itr for itr in range(0,11,2)],\n",
    "    'col2':['YES '*itr for itr in range(1,int(len('YES'))+4,1)],\n",
    "    'col3':['N0 '*itr for itr in range(1**2,int(140/20),13%12)]\n",
    "}\n",
    "\n",
    "df=pd.DataFrame(data=raw_data)\n",
    "\n",
    "# Results\n",
    "print(f'Frame: {df.shape}')\n",
    "\n",
    "print(f'\\n{df}')"
   ]
  },
  {
   "cell_type": "code",
   "execution_count": null,
   "id": "a2c57f64",
   "metadata": {},
   "outputs": [],
   "source": []
  }
 ],
 "metadata": {
  "kernelspec": {
   "display_name": "Python 3",
   "language": "python",
   "name": "python3"
  },
  "language_info": {
   "codemirror_mode": {
    "name": "ipython",
    "version": 3
   },
   "file_extension": ".py",
   "mimetype": "text/x-python",
   "name": "python",
   "nbconvert_exporter": "python",
   "pygments_lexer": "ipython3",
   "version": "3.11.9"
  }
 },
 "nbformat": 4,
 "nbformat_minor": 5
}
