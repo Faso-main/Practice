{
 "cells": [
  {
   "cell_type": "code",
   "execution_count": 2,
   "id": "3e8b191b",
   "metadata": {},
   "outputs": [
    {
     "data": {
      "application/vnd.plotly.v1+json": {
       "config": {
        "plotlyServerURL": "https://plot.ly"
       },
       "data": [],
       "layout": {
        "annotations": [
         {
          "align": "center",
          "font": {
           "color": "black",
           "size": 10
          },
          "showarrow": false,
          "text": "Frontend (Mobile/Web App)",
          "valign": "middle",
          "x": 1.75,
          "y": 11
         },
         {
          "align": "center",
          "font": {
           "color": "black",
           "size": 10
          },
          "showarrow": false,
          "text": "Backend (Bank's System)",
          "valign": "middle",
          "x": 6.75,
          "y": 11
         },
         {
          "align": "center",
          "font": {
           "color": "black",
           "size": 10
          },
          "showarrow": false,
          "text": "Integration Layer",
          "valign": "middle",
          "x": 11.75,
          "y": 11
         },
         {
          "align": "center",
          "font": {
           "color": "black",
           "size": 10
          },
          "showarrow": false,
          "text": "CBR Digital Ruble Platform",
          "valign": "middle",
          "x": 16.75,
          "y": 11
         },
         {
          "align": "center",
          "font": {
           "color": "black",
           "size": 10
          },
          "showarrow": false,
          "text": "Operational DBs (PostgreSQL, Redis)",
          "valign": "middle",
          "x": 6.75,
          "y": 6
         },
         {
          "align": "center",
          "font": {
           "color": "black",
           "size": 10
          },
          "showarrow": false,
          "text": "Analytical DBs (ClickHouse)",
          "valign": "middle",
          "x": 11.75,
          "y": 6
         },
         {
          "align": "center",
          "font": {
           "color": "black",
           "size": 10
          },
          "showarrow": false,
          "text": "Analytical Reporting Layer",
          "valign": "middle",
          "x": 11.75,
          "y": 1
         },
         {
          "arrowcolor": "black",
          "arrowhead": 2,
          "arrowsize": 1,
          "arrowwidth": 1,
          "ax": 3.5,
          "axref": "x",
          "ay": 11,
          "ayref": "y",
          "font": {
           "size": 8
          },
          "showarrow": true,
          "text": "Requests & Data",
          "textangle": 0,
          "x": 5,
          "xanchor": "center",
          "xref": "x",
          "y": 11,
          "yanchor": "middle",
          "yref": "y"
         },
         {
          "arrowcolor": "black",
          "arrowhead": 2,
          "arrowsize": 1,
          "arrowwidth": 1,
          "ax": 6.75,
          "axref": "x",
          "ay": 10,
          "ayref": "y",
          "font": {
           "size": 8
          },
          "showarrow": true,
          "text": "DB Calls",
          "textangle": 0,
          "x": 6.75,
          "xanchor": "center",
          "xref": "x",
          "y": 7,
          "yanchor": "middle",
          "yref": "y"
         },
         {
          "arrowcolor": "black",
          "arrowhead": 2,
          "arrowsize": 1,
          "arrowwidth": 1,
          "ax": 8.5,
          "axref": "x",
          "ay": 11,
          "ayref": "y",
          "font": {
           "size": 8
          },
          "showarrow": true,
          "text": "API Calls",
          "textangle": 0,
          "x": 10,
          "xanchor": "center",
          "xref": "x",
          "y": 11,
          "yanchor": "middle",
          "yref": "y"
         },
         {
          "arrowcolor": "black",
          "arrowhead": 2,
          "arrowsize": 1,
          "arrowwidth": 1,
          "ax": 13.5,
          "axref": "x",
          "ay": 11,
          "ayref": "y",
          "font": {
           "size": 8
          },
          "showarrow": true,
          "text": "Digital Ruble Operations",
          "textangle": 0,
          "x": 15,
          "xanchor": "center",
          "xref": "x",
          "y": 11,
          "yanchor": "middle",
          "yref": "y"
         },
         {
          "arrowcolor": "black",
          "arrowhead": 2,
          "arrowsize": 1,
          "arrowwidth": 1,
          "ax": 11.75,
          "axref": "x",
          "ay": 2,
          "ayref": "y",
          "font": {
           "size": 8
          },
          "showarrow": true,
          "text": "ETL",
          "textangle": 0,
          "x": 6.75,
          "xanchor": "center",
          "xref": "x",
          "y": 5,
          "yanchor": "middle",
          "yref": "y"
         },
         {
          "arrowcolor": "black",
          "arrowhead": 2,
          "arrowsize": 1,
          "arrowwidth": 1,
          "ax": 13.5,
          "axref": "x",
          "ay": 1,
          "ayref": "y",
          "bordercolor": "black",
          "borderwidth": 0,
          "font": {
           "size": 8
          },
          "showarrow": true,
          "text": "",
          "x": 11.75,
          "xref": "x",
          "y": 1,
          "yref": "y"
         },
         {
          "arrowcolor": "black",
          "arrowhead": 2,
          "arrowsize": 1,
          "arrowwidth": 1,
          "ax": 11.75,
          "axref": "x",
          "ay": 1,
          "ayref": "y",
          "bordercolor": "black",
          "borderwidth": 0,
          "font": {
           "size": 8
          },
          "showarrow": true,
          "text": "",
          "x": 11.75,
          "xref": "x",
          "y": 7,
          "yref": "y"
         },
         {
          "align": "center",
          "font": {
           "size": 8
          },
          "showarrow": false,
          "text": "DB Calls",
          "valign": "middle",
          "x": 12.625,
          "y": 1.2
         },
         {
          "arrowcolor": "black",
          "arrowhead": 2,
          "arrowsize": 1,
          "arrowwidth": 1,
          "ax": 11.75,
          "axref": "x",
          "ay": 7,
          "ayref": "y",
          "bordercolor": "black",
          "borderwidth": 0,
          "font": {
           "size": 8
          },
          "showarrow": true,
          "text": "",
          "x": 11.75,
          "xref": "x",
          "y": 1,
          "yref": "y"
         },
         {
          "arrowcolor": "black",
          "arrowhead": 2,
          "arrowsize": 1,
          "arrowwidth": 1,
          "ax": 11.75,
          "axref": "x",
          "ay": 1,
          "ayref": "y",
          "bordercolor": "black",
          "borderwidth": 0,
          "font": {
           "size": 8
          },
          "showarrow": true,
          "text": "",
          "x": 13.5,
          "xref": "x",
          "y": 1,
          "yref": "y"
         },
         {
          "align": "center",
          "font": {
           "size": 8
          },
          "showarrow": false,
          "text": "Data for Reports",
          "valign": "middle",
          "x": 12.625,
          "y": 1.2
         }
        ],
        "height": 600,
        "hovermode": false,
        "margin": {
         "b": 20,
         "l": 20,
         "r": 20,
         "t": 50
        },
        "shapes": [
         {
          "fillcolor": "LightSkyBlue",
          "layer": "below",
          "line": {
           "color": "RoyalBlue",
           "width": 2
          },
          "type": "rect",
          "x0": 0,
          "x1": 3.5,
          "y0": 10,
          "y1": 12
         },
         {
          "fillcolor": "LightSkyBlue",
          "layer": "below",
          "line": {
           "color": "RoyalBlue",
           "width": 2
          },
          "type": "rect",
          "x0": 5,
          "x1": 8.5,
          "y0": 10,
          "y1": 12
         },
         {
          "fillcolor": "LightSkyBlue",
          "layer": "below",
          "line": {
           "color": "RoyalBlue",
           "width": 2
          },
          "type": "rect",
          "x0": 10,
          "x1": 13.5,
          "y0": 10,
          "y1": 12
         },
         {
          "fillcolor": "LightSkyBlue",
          "layer": "below",
          "line": {
           "color": "RoyalBlue",
           "width": 2
          },
          "type": "rect",
          "x0": 15,
          "x1": 18.5,
          "y0": 10,
          "y1": 12
         },
         {
          "fillcolor": "LightGrey",
          "layer": "below",
          "line": {
           "color": "RoyalBlue",
           "width": 2
          },
          "type": "rect",
          "x0": 5,
          "x1": 8.5,
          "y0": 5,
          "y1": 7
         },
         {
          "fillcolor": "LightGrey",
          "layer": "below",
          "line": {
           "color": "RoyalBlue",
           "width": 2
          },
          "type": "rect",
          "x0": 5.35,
          "x1": 8.15,
          "y0": 6.8,
          "y1": 7.2
         },
         {
          "fillcolor": "LightGrey",
          "layer": "below",
          "line": {
           "color": "RoyalBlue",
           "width": 2
          },
          "type": "rect",
          "x0": 10,
          "x1": 13.5,
          "y0": 5,
          "y1": 7
         },
         {
          "fillcolor": "LightGrey",
          "layer": "below",
          "line": {
           "color": "RoyalBlue",
           "width": 2
          },
          "type": "rect",
          "x0": 10.35,
          "x1": 13.15,
          "y0": 6.8,
          "y1": 7.2
         },
         {
          "fillcolor": "LightSkyBlue",
          "layer": "below",
          "line": {
           "color": "RoyalBlue",
           "width": 2
          },
          "type": "rect",
          "x0": 10,
          "x1": 13.5,
          "y0": 0,
          "y1": 2
         }
        ],
        "showlegend": false,
        "template": {
         "data": {
          "bar": [
           {
            "error_x": {
             "color": "#2a3f5f"
            },
            "error_y": {
             "color": "#2a3f5f"
            },
            "marker": {
             "line": {
              "color": "#E5ECF6",
              "width": 0.5
             },
             "pattern": {
              "fillmode": "overlay",
              "size": 10,
              "solidity": 0.2
             }
            },
            "type": "bar"
           }
          ],
          "barpolar": [
           {
            "marker": {
             "line": {
              "color": "#E5ECF6",
              "width": 0.5
             },
             "pattern": {
              "fillmode": "overlay",
              "size": 10,
              "solidity": 0.2
             }
            },
            "type": "barpolar"
           }
          ],
          "carpet": [
           {
            "aaxis": {
             "endlinecolor": "#2a3f5f",
             "gridcolor": "white",
             "linecolor": "white",
             "minorgridcolor": "white",
             "startlinecolor": "#2a3f5f"
            },
            "baxis": {
             "endlinecolor": "#2a3f5f",
             "gridcolor": "white",
             "linecolor": "white",
             "minorgridcolor": "white",
             "startlinecolor": "#2a3f5f"
            },
            "type": "carpet"
           }
          ],
          "choropleth": [
           {
            "colorbar": {
             "outlinewidth": 0,
             "ticks": ""
            },
            "type": "choropleth"
           }
          ],
          "contour": [
           {
            "colorbar": {
             "outlinewidth": 0,
             "ticks": ""
            },
            "colorscale": [
             [
              0,
              "#0d0887"
             ],
             [
              0.1111111111111111,
              "#46039f"
             ],
             [
              0.2222222222222222,
              "#7201a8"
             ],
             [
              0.3333333333333333,
              "#9c179e"
             ],
             [
              0.4444444444444444,
              "#bd3786"
             ],
             [
              0.5555555555555556,
              "#d8576b"
             ],
             [
              0.6666666666666666,
              "#ed7953"
             ],
             [
              0.7777777777777778,
              "#fb9f3a"
             ],
             [
              0.8888888888888888,
              "#fdca26"
             ],
             [
              1,
              "#f0f921"
             ]
            ],
            "type": "contour"
           }
          ],
          "contourcarpet": [
           {
            "colorbar": {
             "outlinewidth": 0,
             "ticks": ""
            },
            "type": "contourcarpet"
           }
          ],
          "heatmap": [
           {
            "colorbar": {
             "outlinewidth": 0,
             "ticks": ""
            },
            "colorscale": [
             [
              0,
              "#0d0887"
             ],
             [
              0.1111111111111111,
              "#46039f"
             ],
             [
              0.2222222222222222,
              "#7201a8"
             ],
             [
              0.3333333333333333,
              "#9c179e"
             ],
             [
              0.4444444444444444,
              "#bd3786"
             ],
             [
              0.5555555555555556,
              "#d8576b"
             ],
             [
              0.6666666666666666,
              "#ed7953"
             ],
             [
              0.7777777777777778,
              "#fb9f3a"
             ],
             [
              0.8888888888888888,
              "#fdca26"
             ],
             [
              1,
              "#f0f921"
             ]
            ],
            "type": "heatmap"
           }
          ],
          "histogram": [
           {
            "marker": {
             "pattern": {
              "fillmode": "overlay",
              "size": 10,
              "solidity": 0.2
             }
            },
            "type": "histogram"
           }
          ],
          "histogram2d": [
           {
            "colorbar": {
             "outlinewidth": 0,
             "ticks": ""
            },
            "colorscale": [
             [
              0,
              "#0d0887"
             ],
             [
              0.1111111111111111,
              "#46039f"
             ],
             [
              0.2222222222222222,
              "#7201a8"
             ],
             [
              0.3333333333333333,
              "#9c179e"
             ],
             [
              0.4444444444444444,
              "#bd3786"
             ],
             [
              0.5555555555555556,
              "#d8576b"
             ],
             [
              0.6666666666666666,
              "#ed7953"
             ],
             [
              0.7777777777777778,
              "#fb9f3a"
             ],
             [
              0.8888888888888888,
              "#fdca26"
             ],
             [
              1,
              "#f0f921"
             ]
            ],
            "type": "histogram2d"
           }
          ],
          "histogram2dcontour": [
           {
            "colorbar": {
             "outlinewidth": 0,
             "ticks": ""
            },
            "colorscale": [
             [
              0,
              "#0d0887"
             ],
             [
              0.1111111111111111,
              "#46039f"
             ],
             [
              0.2222222222222222,
              "#7201a8"
             ],
             [
              0.3333333333333333,
              "#9c179e"
             ],
             [
              0.4444444444444444,
              "#bd3786"
             ],
             [
              0.5555555555555556,
              "#d8576b"
             ],
             [
              0.6666666666666666,
              "#ed7953"
             ],
             [
              0.7777777777777778,
              "#fb9f3a"
             ],
             [
              0.8888888888888888,
              "#fdca26"
             ],
             [
              1,
              "#f0f921"
             ]
            ],
            "type": "histogram2dcontour"
           }
          ],
          "mesh3d": [
           {
            "colorbar": {
             "outlinewidth": 0,
             "ticks": ""
            },
            "type": "mesh3d"
           }
          ],
          "parcoords": [
           {
            "line": {
             "colorbar": {
              "outlinewidth": 0,
              "ticks": ""
             }
            },
            "type": "parcoords"
           }
          ],
          "pie": [
           {
            "automargin": true,
            "type": "pie"
           }
          ],
          "scatter": [
           {
            "fillpattern": {
             "fillmode": "overlay",
             "size": 10,
             "solidity": 0.2
            },
            "type": "scatter"
           }
          ],
          "scatter3d": [
           {
            "line": {
             "colorbar": {
              "outlinewidth": 0,
              "ticks": ""
             }
            },
            "marker": {
             "colorbar": {
              "outlinewidth": 0,
              "ticks": ""
             }
            },
            "type": "scatter3d"
           }
          ],
          "scattercarpet": [
           {
            "marker": {
             "colorbar": {
              "outlinewidth": 0,
              "ticks": ""
             }
            },
            "type": "scattercarpet"
           }
          ],
          "scattergeo": [
           {
            "marker": {
             "colorbar": {
              "outlinewidth": 0,
              "ticks": ""
             }
            },
            "type": "scattergeo"
           }
          ],
          "scattergl": [
           {
            "marker": {
             "colorbar": {
              "outlinewidth": 0,
              "ticks": ""
             }
            },
            "type": "scattergl"
           }
          ],
          "scattermap": [
           {
            "marker": {
             "colorbar": {
              "outlinewidth": 0,
              "ticks": ""
             }
            },
            "type": "scattermap"
           }
          ],
          "scattermapbox": [
           {
            "marker": {
             "colorbar": {
              "outlinewidth": 0,
              "ticks": ""
             }
            },
            "type": "scattermapbox"
           }
          ],
          "scatterpolar": [
           {
            "marker": {
             "colorbar": {
              "outlinewidth": 0,
              "ticks": ""
             }
            },
            "type": "scatterpolar"
           }
          ],
          "scatterpolargl": [
           {
            "marker": {
             "colorbar": {
              "outlinewidth": 0,
              "ticks": ""
             }
            },
            "type": "scatterpolargl"
           }
          ],
          "scatterternary": [
           {
            "marker": {
             "colorbar": {
              "outlinewidth": 0,
              "ticks": ""
             }
            },
            "type": "scatterternary"
           }
          ],
          "surface": [
           {
            "colorbar": {
             "outlinewidth": 0,
             "ticks": ""
            },
            "colorscale": [
             [
              0,
              "#0d0887"
             ],
             [
              0.1111111111111111,
              "#46039f"
             ],
             [
              0.2222222222222222,
              "#7201a8"
             ],
             [
              0.3333333333333333,
              "#9c179e"
             ],
             [
              0.4444444444444444,
              "#bd3786"
             ],
             [
              0.5555555555555556,
              "#d8576b"
             ],
             [
              0.6666666666666666,
              "#ed7953"
             ],
             [
              0.7777777777777778,
              "#fb9f3a"
             ],
             [
              0.8888888888888888,
              "#fdca26"
             ],
             [
              1,
              "#f0f921"
             ]
            ],
            "type": "surface"
           }
          ],
          "table": [
           {
            "cells": {
             "fill": {
              "color": "#EBF0F8"
             },
             "line": {
              "color": "white"
             }
            },
            "header": {
             "fill": {
              "color": "#C8D4E3"
             },
             "line": {
              "color": "white"
             }
            },
            "type": "table"
           }
          ]
         },
         "layout": {
          "annotationdefaults": {
           "arrowcolor": "#2a3f5f",
           "arrowhead": 0,
           "arrowwidth": 1
          },
          "autotypenumbers": "strict",
          "coloraxis": {
           "colorbar": {
            "outlinewidth": 0,
            "ticks": ""
           }
          },
          "colorscale": {
           "diverging": [
            [
             0,
             "#8e0152"
            ],
            [
             0.1,
             "#c51b7d"
            ],
            [
             0.2,
             "#de77ae"
            ],
            [
             0.3,
             "#f1b6da"
            ],
            [
             0.4,
             "#fde0ef"
            ],
            [
             0.5,
             "#f7f7f7"
            ],
            [
             0.6,
             "#e6f5d0"
            ],
            [
             0.7,
             "#b8e186"
            ],
            [
             0.8,
             "#7fbc41"
            ],
            [
             0.9,
             "#4d9221"
            ],
            [
             1,
             "#276419"
            ]
           ],
           "sequential": [
            [
             0,
             "#0d0887"
            ],
            [
             0.1111111111111111,
             "#46039f"
            ],
            [
             0.2222222222222222,
             "#7201a8"
            ],
            [
             0.3333333333333333,
             "#9c179e"
            ],
            [
             0.4444444444444444,
             "#bd3786"
            ],
            [
             0.5555555555555556,
             "#d8576b"
            ],
            [
             0.6666666666666666,
             "#ed7953"
            ],
            [
             0.7777777777777778,
             "#fb9f3a"
            ],
            [
             0.8888888888888888,
             "#fdca26"
            ],
            [
             1,
             "#f0f921"
            ]
           ],
           "sequentialminus": [
            [
             0,
             "#0d0887"
            ],
            [
             0.1111111111111111,
             "#46039f"
            ],
            [
             0.2222222222222222,
             "#7201a8"
            ],
            [
             0.3333333333333333,
             "#9c179e"
            ],
            [
             0.4444444444444444,
             "#bd3786"
            ],
            [
             0.5555555555555556,
             "#d8576b"
            ],
            [
             0.6666666666666666,
             "#ed7953"
            ],
            [
             0.7777777777777778,
             "#fb9f3a"
            ],
            [
             0.8888888888888888,
             "#fdca26"
            ],
            [
             1,
             "#f0f921"
            ]
           ]
          },
          "colorway": [
           "#636efa",
           "#EF553B",
           "#00cc96",
           "#ab63fa",
           "#FFA15A",
           "#19d3f3",
           "#FF6692",
           "#B6E880",
           "#FF97FF",
           "#FECB52"
          ],
          "font": {
           "color": "#2a3f5f"
          },
          "geo": {
           "bgcolor": "white",
           "lakecolor": "white",
           "landcolor": "#E5ECF6",
           "showlakes": true,
           "showland": true,
           "subunitcolor": "white"
          },
          "hoverlabel": {
           "align": "left"
          },
          "hovermode": "closest",
          "mapbox": {
           "style": "light"
          },
          "paper_bgcolor": "white",
          "plot_bgcolor": "#E5ECF6",
          "polar": {
           "angularaxis": {
            "gridcolor": "white",
            "linecolor": "white",
            "ticks": ""
           },
           "bgcolor": "#E5ECF6",
           "radialaxis": {
            "gridcolor": "white",
            "linecolor": "white",
            "ticks": ""
           }
          },
          "scene": {
           "xaxis": {
            "backgroundcolor": "#E5ECF6",
            "gridcolor": "white",
            "gridwidth": 2,
            "linecolor": "white",
            "showbackground": true,
            "ticks": "",
            "zerolinecolor": "white"
           },
           "yaxis": {
            "backgroundcolor": "#E5ECF6",
            "gridcolor": "white",
            "gridwidth": 2,
            "linecolor": "white",
            "showbackground": true,
            "ticks": "",
            "zerolinecolor": "white"
           },
           "zaxis": {
            "backgroundcolor": "#E5ECF6",
            "gridcolor": "white",
            "gridwidth": 2,
            "linecolor": "white",
            "showbackground": true,
            "ticks": "",
            "zerolinecolor": "white"
           }
          },
          "shapedefaults": {
           "line": {
            "color": "#2a3f5f"
           }
          },
          "ternary": {
           "aaxis": {
            "gridcolor": "white",
            "linecolor": "white",
            "ticks": ""
           },
           "baxis": {
            "gridcolor": "white",
            "linecolor": "white",
            "ticks": ""
           },
           "bgcolor": "#E5ECF6",
           "caxis": {
            "gridcolor": "white",
            "linecolor": "white",
            "ticks": ""
           }
          },
          "title": {
           "x": 0.05
          },
          "xaxis": {
           "automargin": true,
           "gridcolor": "white",
           "linecolor": "white",
           "ticks": "",
           "title": {
            "standoff": 15
           },
           "zerolinecolor": "white",
           "zerolinewidth": 2
          },
          "yaxis": {
           "automargin": true,
           "gridcolor": "white",
           "linecolor": "white",
           "ticks": "",
           "title": {
            "standoff": 15
           },
           "zerolinecolor": "white",
           "zerolinewidth": 2
          }
         }
        },
        "title": {
         "text": "Архитектура данных цифрового рубля (имитация UML)"
        },
        "width": 1000,
        "xaxis": {
         "range": [
          -2,
          18
         ],
         "visible": false
        },
        "yaxis": {
         "range": [
          -2,
          12
         ],
         "visible": false
        }
       }
      }
     },
     "metadata": {},
     "output_type": "display_data"
    }
   ],
   "source": [
    "import plotly.graph_objects as go\n",
    "\n",
    "def create_component_diagram_plotly():\n",
    "    fig = go.Figure()\n",
    "\n",
    "    # --- Определение позиций компонентов (ручное позиционирование) ---\n",
    "    components = {\n",
    "        \"Frontend\": {\"x\": 0, \"y\": 10, \"label\": \"Frontend (Mobile/Web App)\"},\n",
    "        \"Backend\": {\"x\": 5, \"y\": 10, \"label\": \"Backend (Bank's System)\"},\n",
    "        \"Integration\": {\"x\": 10, \"y\": 10, \"label\": \"Integration Layer\"},\n",
    "        \"CBRPlatform\": {\"x\": 15, \"y\": 10, \"label\": \"CBR Digital Ruble Platform\"},\n",
    "        \"OperDB\": {\"x\": 5, \"y\": 5, \"label\": \"Operational DBs (PostgreSQL, Redis)\", \"is_db\": True},\n",
    "        \"AnalytDB\": {\"x\": 10, \"y\": 5, \"label\": \"Analytical DBs (ClickHouse)\", \"is_db\": True},\n",
    "        \"Analytics\": {\"x\": 10, \"y\": 0, \"label\": \"Analytical Reporting Layer\"},\n",
    "    }\n",
    "\n",
    "    # Размеры блоков\n",
    "    component_width = 3.5\n",
    "    component_height = 2.0\n",
    "\n",
    "    # --- Добавление компонентов (прямоугольников) и текста ---\n",
    "    for name, props in components.items():\n",
    "        x0, y0 = props[\"x\"], props[\"y\"]\n",
    "        x1, y1 = x0 + component_width, y0 + component_height\n",
    "\n",
    "        # Отрисовка прямоугольника компонента\n",
    "        fig.add_shape(\n",
    "            type=\"rect\",\n",
    "            x0=x0, y0=y0, x1=x1, y1=y1,\n",
    "            line=dict(color=\"RoyalBlue\", width=2),\n",
    "            fillcolor=\"LightSkyBlue\" if not props.get(\"is_db\", False) else \"LightGrey\",\n",
    "            layer=\"below\"\n",
    "        )\n",
    "\n",
    "        # Отрисовка символа базы данных для DBs (ОСТАВЛЯЕМ ТОЛЬКО ПРЯМОУГОЛЬНИК)\n",
    "        if props.get(\"is_db\", False):\n",
    "            # Простая имитация символа DB - только верхний прямоугольник\n",
    "            fig.add_shape(\n",
    "                type=\"rect\",\n",
    "                x0=x0 + component_width * 0.1, y0=y1 - component_height * 0.1,\n",
    "                x1=x1 - component_width * 0.1, y1=y1 + component_height * 0.1, # Простирается немного выше основного блока\n",
    "                line=dict(color=\"RoyalBlue\", width=2),\n",
    "                fillcolor=\"LightGrey\",\n",
    "                layer=\"below\"\n",
    "            )\n",
    "            # УДАЛИТЕ СТРОКИ, КОТОРЫЕ ПЫТАЛИСЬ НАРИСОВАТЬ ЭЛЛИПС:\n",
    "            # fig.add_shape(\n",
    "            #     type=\"ellipse\",\n",
    "            #     xref=\"x\", yref=\"y\",\n",
    "            #     x0=x0 + component_width * 0.1, y0=y1 - component_height * 0.1 - 0.2,\n",
    "            #     x1=x1 - component_width * 0.1, y1=y1 + component_height * 0.1 - 0.2,\n",
    "            #     line_color=\"RoyalBlue\", fillcolor=\"LightGrey\", opacity=1, layer=\"below\"\n",
    "            # )\n",
    "\n",
    "\n",
    "        # Добавление текста (метки компонента)\n",
    "        fig.add_annotation(\n",
    "            x=(x0 + x1) / 2, y=(y0 + y1) / 2,\n",
    "            text=props[\"label\"],\n",
    "            showarrow=False,\n",
    "            font=dict(size=10, color=\"black\"),\n",
    "            align=\"center\",\n",
    "            valign=\"middle\"\n",
    "        )\n",
    "\n",
    "    # --- Добавление стрелок (соединений) ---\n",
    "    # Для простоты, координаты стрелок также задаются вручную или вычисляются\n",
    "    # Это наиболее трудоемкая часть и требует точных расчетов для аккуратности\n",
    "\n",
    "    connections = [\n",
    "        # (source_comp, target_comp, label, from_side, to_side)\n",
    "        (\"Frontend\", \"Backend\", \"Requests & Data\", \"right\", \"left\"),\n",
    "        (\"Backend\", \"OperDB\", \"DB Calls\", \"bottom\", \"top\"),\n",
    "        (\"Backend\", \"Integration\", \"API Calls\", \"right\", \"left\"),\n",
    "        (\"Integration\", \"CBRPlatform\", \"Digital Ruble Operations\", \"right\", \"left\"),\n",
    "        (\"Analytics\", \"OperDB\", \"ETL\", \"top\", \"bottom\"),\n",
    "        (\"Analytics\", \"AnalytDB\", \"DB Calls\", \"top\", \"top\"), # Сложная линия\n",
    "        (\"AnalytDB\", \"Analytics\", \"Data for Reports\", \"bottom\", \"bottom\") # Сложная линия\n",
    "    ]\n",
    "\n",
    "    for conn in connections:\n",
    "        source_name, target_name, label, from_side, to_side = conn\n",
    "        source = components[source_name]\n",
    "        target = components[target_name]\n",
    "\n",
    "        # Вычисление точек для стрелок\n",
    "        # Это очень упрощенные вычисления. Для реальной диаграммы нужно гораздо больше логики.\n",
    "        # Например, для \"right\" это x1, для \"bottom\" это y0, и т.д.\n",
    "        # Точное позиционирование коннекторов на сторонах компонента\n",
    "        x_src, y_src = source[\"x\"], source[\"y\"]\n",
    "        x_tgt, y_tgt = target[\"x\"], target[\"y\"]\n",
    "\n",
    "        # Упрощенные точки для соединения центров для прямолинейных связей\n",
    "        # Для более сложных связей (как для DBs) нужно вычислять точки на границах прямоугольников\n",
    "        x_start, y_start = x_src + component_width / 2, y_src + component_height / 2\n",
    "        x_end, y_end = x_tgt + component_width / 2, y_tgt + component_height / 2\n",
    "\n",
    "        # Смещение для более красивых прямых линий между центрами\n",
    "        if source_name == \"Frontend\" and target_name == \"Backend\":\n",
    "            x_start = source[\"x\"] + component_width # Правая сторона Frontend\n",
    "            y_start = source[\"y\"] + component_height / 2\n",
    "            x_end = target[\"x\"] # Левая сторона Backend\n",
    "            y_end = target[\"y\"] + component_height / 2\n",
    "        elif source_name == \"Backend\" and target_name == \"OperDB\":\n",
    "            x_start = source[\"x\"] + component_width / 2\n",
    "            y_start = source[\"y\"] # Нижняя сторона Backend\n",
    "            x_end = target[\"x\"] + component_width / 2\n",
    "            y_end = target[\"y\"] + component_height # Верхняя сторона OperDB\n",
    "        elif source_name == \"Backend\" and target_name == \"Integration\":\n",
    "            x_start = source[\"x\"] + component_width # Правая сторона Backend\n",
    "            y_start = source[\"y\"] + component_height / 2\n",
    "            x_end = target[\"x\"] # Левая сторона Integration\n",
    "            y_end = target[\"y\"] + component_height / 2\n",
    "        elif source_name == \"Integration\" and target_name == \"CBRPlatform\":\n",
    "            x_start = source[\"x\"] + component_width # Правая сторона Integration\n",
    "            y_start = source[\"y\"] + component_height / 2\n",
    "            x_end = target[\"x\"] # Левая сторона CBRPlatform\n",
    "            y_end = target[\"y\"] + component_height / 2\n",
    "        elif source_name == \"Analytics\" and target_name == \"OperDB\":\n",
    "            x_start = source[\"x\"] + component_width / 2\n",
    "            y_start = source[\"y\"] + component_height # Верхняя сторона Analytics\n",
    "            x_end = target[\"x\"] + component_width / 2\n",
    "            y_end = target[\"y\"] # Нижняя сторона OperDB\n",
    "        elif source_name == \"Analytics\" and target_name == \"AnalytDB\":\n",
    "            # Особый случай для отрисовки линии вправо, затем вниз\n",
    "            x_start = source[\"x\"] + component_width\n",
    "            y_start = source[\"y\"] + component_height / 2\n",
    "            x_mid = target[\"x\"] + component_width / 2\n",
    "            y_mid = target[\"y\"] + component_height\n",
    "            # Отрисовка двух сегментов для ломаной линии\n",
    "            fig.add_annotation(\n",
    "                ax=x_start, ay=y_start,\n",
    "                x=x_mid, y=y_start, # Горизонтальный сегмент\n",
    "                axref=\"x\", ayref=\"y\", xref=\"x\", yref=\"y\",\n",
    "                showarrow=True, arrowhead=2, arrowsize=1, arrowwidth=1, arrowcolor=\"black\",\n",
    "                text=\"\", font=dict(size=8), bordercolor=\"black\", borderwidth=0\n",
    "            )\n",
    "            fig.add_annotation(\n",
    "                ax=x_mid, ay=y_start, # От конца горизонтального сегмента\n",
    "                x=x_mid, y=y_mid, # Вертикальный сегмент до середины верхней границы AnalytDB\n",
    "                axref=\"x\", ayref=\"y\", xref=\"x\", yref=\"y\",\n",
    "                showarrow=True, arrowhead=2, arrowsize=1, arrowwidth=1, arrowcolor=\"black\",\n",
    "                text=\"\", font=dict(size=8), bordercolor=\"black\", borderwidth=0\n",
    "            )\n",
    "            fig.add_annotation(\n",
    "                x=(x_start + x_mid) / 2, y=y_start + 0.2, # Метка на горизонтальном сегменте\n",
    "                text=label,\n",
    "                showarrow=False,\n",
    "                font=dict(size=8),\n",
    "                align=\"center\",\n",
    "                valign=\"middle\"\n",
    "            )\n",
    "            continue # Пропускаем стандартную отрисовку для этой связи\n",
    "\n",
    "        elif source_name == \"AnalytDB\" and target_name == \"Analytics\":\n",
    "            # Особый случай для отрисовки линии вверх, затем влево\n",
    "            x_start = source[\"x\"] + component_width / 2\n",
    "            y_start = source[\"y\"] + component_height # От верхней стороны AnalytDB\n",
    "            x_mid = source[\"x\"] + component_width / 2 # Вертикальный сегмент\n",
    "            y_mid = target[\"y\"] + component_height / 2 # До середины левой стороны Analytics\n",
    "            x_end = target[\"x\"] + component_width # До правой стороны Analytics\n",
    "            y_end = target[\"y\"] + component_height / 2\n",
    "\n",
    "            # Отрисовка двух сегментов для ломаной линии\n",
    "            fig.add_annotation(\n",
    "                ax=x_start, ay=y_start,\n",
    "                x=x_mid, y=y_mid, # Вертикальный сегмент\n",
    "                axref=\"x\", ayref=\"y\", xref=\"x\", yref=\"y\",\n",
    "                showarrow=True, arrowhead=2, arrowsize=1, arrowwidth=1, arrowcolor=\"black\",\n",
    "                text=\"\", font=dict(size=8), bordercolor=\"black\", borderwidth=0\n",
    "            )\n",
    "            fig.add_annotation(\n",
    "                ax=x_mid, ay=y_mid,\n",
    "                x=x_end, y=y_end, # Горизонтальный сегмент\n",
    "                axref=\"x\", ayref=\"y\", xref=\"x\", yref=\"y\",\n",
    "                showarrow=True, arrowhead=2, arrowsize=1, arrowwidth=1, arrowcolor=\"black\",\n",
    "                text=\"\", font=dict(size=8), bordercolor=\"black\", borderwidth=0\n",
    "            )\n",
    "            fig.add_annotation(\n",
    "                x=(x_mid + x_end) / 2, y=y_mid + 0.2, # Метка на горизонтальном сегменте\n",
    "                text=label,\n",
    "                showarrow=False,\n",
    "                font=dict(size=8),\n",
    "                align=\"center\",\n",
    "                valign=\"middle\"\n",
    "            )\n",
    "            continue # Пропускаем стандартную отрисовку для этой связи\n",
    "\n",
    "\n",
    "        # Добавление стрелки\n",
    "        fig.add_annotation(\n",
    "            x=x_end, y=y_end,\n",
    "            ax=x_start, ay=y_start,\n",
    "            xref=\"x\", yref=\"y\", axref=\"x\", ayref=\"y\",\n",
    "            showarrow=True,\n",
    "            arrowhead=2,  # Тип стрелки\n",
    "            arrowsize=1,\n",
    "            arrowwidth=1,\n",
    "            arrowcolor=\"black\",\n",
    "            text=label,\n",
    "            font=dict(size=8),\n",
    "            # Смещение текста для метки\n",
    "            textangle=0,\n",
    "            xanchor=\"center\", yanchor=\"middle\"\n",
    "        )\n",
    "\n",
    "\n",
    "    fig.update_layout(\n",
    "        title=\"Архитектура данных цифрового рубля (имитация UML)\",\n",
    "        xaxis=dict(visible=False, range=[-2, 18]), # Подгонка диапазона осей\n",
    "        yaxis=dict(visible=False, range=[-2, 12]),\n",
    "        showlegend=False,\n",
    "        hovermode=False,\n",
    "        height=600, # Высота графика\n",
    "        width=1000, # Ширина графика\n",
    "        margin=dict(l=20, r=20, t=50, b=20)\n",
    "    )\n",
    "\n",
    "    fig.show()\n",
    "\n",
    "create_component_diagram_plotly()"
   ]
  }
 ],
 "metadata": {
  "kernelspec": {
   "display_name": "Python 3",
   "language": "python",
   "name": "python3"
  },
  "language_info": {
   "codemirror_mode": {
    "name": "ipython",
    "version": 3
   },
   "file_extension": ".py",
   "mimetype": "text/x-python",
   "name": "python",
   "nbconvert_exporter": "python",
   "pygments_lexer": "ipython3",
   "version": "3.11.9"
  }
 },
 "nbformat": 4,
 "nbformat_minor": 5
}
