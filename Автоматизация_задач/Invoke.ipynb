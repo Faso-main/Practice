{
 "cells": [
  {
   "cell_type": "code",
   "execution_count": null,
   "id": "9e384924",
   "metadata": {},
   "outputs": [],
   "source": [
    "from invoke import task\n",
    "\n",
    "@task\n",
    "def hello(c, name=\"World\"):\n",
    "    \"\"\"Приветствие.\"\"\"\n",
    "    print(f\"Hello, {name}!\")\n",
    "\n",
    "@task\n",
    "def lint(c):\n",
    "    \"\"\"Проверка кода с flake8.\"\"\"\n",
    "    c.run(\"flake8 .\")\n",
    "\n",
    "@task\n",
    "def deploy(c, env=\"prod\"):\n",
    "    \"\"\"Деплой на сервер.\"\"\"\n",
    "    print(f\"Deploying to {env}...\")\n",
    "    c.run(f\"git push {env} main\")\n",
    "    c.run(f\"ssh user@server 'cd /app && git pull && docker-compose up -d'\")\n",
    "\n",
    "\n",
    "\"\"\"\n",
    "invoke hello --name=Alice\n",
    "invoke lint\n",
    "invoke deploy --env=staging\n",
    "\"\"\""
   ]
  }
 ],
 "metadata": {
  "language_info": {
   "name": "python"
  }
 },
 "nbformat": 4,
 "nbformat_minor": 5
}
